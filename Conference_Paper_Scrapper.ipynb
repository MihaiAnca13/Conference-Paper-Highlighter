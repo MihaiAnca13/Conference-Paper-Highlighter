{
  "nbformat": 4,
  "nbformat_minor": 0,
  "metadata": {
    "colab": {
      "name": " Conference-Paper-Scrapper.ipynb",
      "provenance": [],
      "include_colab_link": true
    },
    "kernelspec": {
      "name": "python3",
      "display_name": "Python 3"
    },
    "language_info": {
      "name": "python"
    }
  },
  "cells": [
    {
      "cell_type": "markdown",
      "metadata": {
        "id": "view-in-github",
        "colab_type": "text"
      },
      "source": [
        "<a href=\"https://colab.research.google.com/github/lcipolina/Conference-Paper-Highlighter/blob/main/Conference_Paper_Scrapper.ipynb\" target=\"_parent\"><img src=\"https://colab.research.google.com/assets/colab-badge.svg\" alt=\"Open In Colab\"/></a>"
      ]
    },
    {
      "cell_type": "markdown",
      "metadata": {
        "id": "9mc-iNkLgL59"
      },
      "source": [
        "# Download your favourite papers from your favourite conference\n",
        "A script by Mihai Anca\n",
        "https://github.com/MihaiAnca13/Conference-Paper-Highlighter"
      ]
    },
    {
      "cell_type": "markdown",
      "metadata": {
        "id": "oH-_d3C4g_4w"
      },
      "source": [
        "### Tutorial\n",
        "* The script will prompt you if you want to download the data, input 'y' on the text box\n",
        "\n",
        "* A list of conferences will be dumped indexed by numbers. Select the conference you want by iserting the corresponding index number on the text box\n",
        "\n",
        "* The script will ask for confirmation on your selected number\n",
        "\n",
        "* Lastly, a couple more text box will appear for you to enter the key word to highlight. For example, you can enter the word *reinforcement* for all the reinforcement papers to be highlighted\n",
        "\n",
        "* The Excel Spreadsheet will be ready on the left pane of the Google Colab, called 'sample.xls'\n",
        "\n",
        "* Note: if you are running the script multiple times, make sure to close the file or delete it before running."
      ]
    },
    {
      "cell_type": "code",
      "metadata": {
        "colab": {
          "base_uri": "https://localhost:8080/"
        },
        "id": "GvT16ZLBdQqW",
        "outputId": "74f3e348-f671-455a-c07d-d2f66b7f4d29"
      },
      "source": [
        "!pip install selenium\n",
        "!pip install openpyxl"
      ],
      "execution_count": null,
      "outputs": [
        {
          "output_type": "stream",
          "name": "stdout",
          "text": [
            "Requirement already satisfied: selenium in /usr/local/lib/python3.7/dist-packages (4.0.0)\n",
            "Requirement already satisfied: trio-websocket~=0.9 in /usr/local/lib/python3.7/dist-packages (from selenium) (0.9.2)\n",
            "Requirement already satisfied: urllib3[secure]~=1.26 in /usr/local/lib/python3.7/dist-packages (from selenium) (1.26.7)\n",
            "Requirement already satisfied: trio~=0.17 in /usr/local/lib/python3.7/dist-packages (from selenium) (0.19.0)\n",
            "Requirement already satisfied: idna in /usr/local/lib/python3.7/dist-packages (from trio~=0.17->selenium) (2.10)\n",
            "Requirement already satisfied: sniffio in /usr/local/lib/python3.7/dist-packages (from trio~=0.17->selenium) (1.2.0)\n",
            "Requirement already satisfied: outcome in /usr/local/lib/python3.7/dist-packages (from trio~=0.17->selenium) (1.1.0)\n",
            "Requirement already satisfied: attrs>=19.2.0 in /usr/local/lib/python3.7/dist-packages (from trio~=0.17->selenium) (21.2.0)\n",
            "Requirement already satisfied: sortedcontainers in /usr/local/lib/python3.7/dist-packages (from trio~=0.17->selenium) (2.4.0)\n",
            "Requirement already satisfied: async-generator>=1.9 in /usr/local/lib/python3.7/dist-packages (from trio~=0.17->selenium) (1.10)\n",
            "Requirement already satisfied: wsproto>=0.14 in /usr/local/lib/python3.7/dist-packages (from trio-websocket~=0.9->selenium) (1.0.0)\n",
            "Requirement already satisfied: cryptography>=1.3.4 in /usr/local/lib/python3.7/dist-packages (from urllib3[secure]~=1.26->selenium) (35.0.0)\n",
            "Requirement already satisfied: pyOpenSSL>=0.14 in /usr/local/lib/python3.7/dist-packages (from urllib3[secure]~=1.26->selenium) (21.0.0)\n",
            "Requirement already satisfied: certifi in /usr/local/lib/python3.7/dist-packages (from urllib3[secure]~=1.26->selenium) (2021.5.30)\n",
            "Requirement already satisfied: cffi>=1.12 in /usr/local/lib/python3.7/dist-packages (from cryptography>=1.3.4->urllib3[secure]~=1.26->selenium) (1.14.6)\n",
            "Requirement already satisfied: pycparser in /usr/local/lib/python3.7/dist-packages (from cffi>=1.12->cryptography>=1.3.4->urllib3[secure]~=1.26->selenium) (2.20)\n",
            "Requirement already satisfied: six>=1.5.2 in /usr/local/lib/python3.7/dist-packages (from pyOpenSSL>=0.14->urllib3[secure]~=1.26->selenium) (1.15.0)\n",
            "Requirement already satisfied: h11<1,>=0.9.0 in /usr/local/lib/python3.7/dist-packages (from wsproto>=0.14->trio-websocket~=0.9->selenium) (0.12.0)\n",
            "Requirement already satisfied: openpyxl in /usr/local/lib/python3.7/dist-packages (2.5.9)\n",
            "Requirement already satisfied: et-xmlfile in /usr/local/lib/python3.7/dist-packages (from openpyxl) (1.1.0)\n",
            "Requirement already satisfied: jdcal in /usr/local/lib/python3.7/dist-packages (from openpyxl) (1.4.1)\n"
          ]
        }
      ]
    },
    {
      "cell_type": "code",
      "metadata": {
        "colab": {
          "base_uri": "https://localhost:8080/"
        },
        "id": "3wJpK3QUeWx-",
        "outputId": "247647c3-86c0-433c-d501-7878f092feb8"
      },
      "source": [
        "!apt-get update \n",
        "!apt install chromium-chromedriver\n",
        "\n",
        "from selenium import webdriver\n",
        "chrome_options = webdriver.ChromeOptions()\n",
        "chrome_options.add_argument('--headless')\n",
        "chrome_options.add_argument('--no-sandbox')\n",
        "chrome_options.add_argument('--disable-dev-shm-usage')\n",
        "driver = webdriver.Chrome('chromedriver',chrome_options=chrome_options)"
      ],
      "execution_count": null,
      "outputs": [
        {
          "output_type": "stream",
          "name": "stdout",
          "text": [
            "\r0% [Working]\r            \rHit:1 http://ppa.launchpad.net/c2d4u.team/c2d4u4.0+/ubuntu bionic InRelease\n",
            "\r0% [Waiting for headers] [Connecting to security.ubuntu.com (91.189.91.39)] [Co\r                                                                               \rHit:2 http://archive.ubuntu.com/ubuntu bionic InRelease\n",
            "\r0% [Waiting for headers] [Connecting to security.ubuntu.com (91.189.91.39)] [Co\r0% [1 InRelease gpgv 15.9 kB] [Waiting for headers] [Connecting to security.ubu\r                                                                               \rHit:3 http://archive.ubuntu.com/ubuntu bionic-updates InRelease\n",
            "\r0% [1 InRelease gpgv 15.9 kB] [Waiting for headers] [Connecting to security.ubu\r                                                                               \rHit:4 http://archive.ubuntu.com/ubuntu bionic-backports InRelease\n",
            "\r0% [1 InRelease gpgv 15.9 kB] [Connecting to security.ubuntu.com (91.189.91.39)\r                                                                               \rHit:5 http://ppa.launchpad.net/cran/libgit2/ubuntu bionic InRelease\n",
            "\r0% [1 InRelease gpgv 15.9 kB] [Connecting to security.ubuntu.com (91.189.91.39)\r                                                                               \rHit:6 https://cloud.r-project.org/bin/linux/ubuntu bionic-cran40/ InRelease\n",
            "\r0% [1 InRelease gpgv 15.9 kB] [Connecting to security.ubuntu.com (91.189.91.39)\r                                                                               \rHit:7 http://ppa.launchpad.net/deadsnakes/ppa/ubuntu bionic InRelease\n",
            "Hit:8 http://ppa.launchpad.net/graphics-drivers/ppa/ubuntu bionic InRelease\n",
            "Hit:9 http://security.ubuntu.com/ubuntu bionic-security InRelease\n",
            "Ign:10 https://developer.download.nvidia.com/compute/cuda/repos/ubuntu1804/x86_64  InRelease\n",
            "Ign:11 https://developer.download.nvidia.com/compute/machine-learning/repos/ubuntu1804/x86_64  InRelease\n",
            "Hit:12 https://developer.download.nvidia.com/compute/cuda/repos/ubuntu1804/x86_64  Release\n",
            "Hit:13 https://developer.download.nvidia.com/compute/machine-learning/repos/ubuntu1804/x86_64  Release\n",
            "Reading package lists... Done\n",
            "Reading package lists... Done\n",
            "Building dependency tree       \n",
            "Reading state information... Done\n",
            "chromium-chromedriver is already the newest version (94.0.4606.71-0ubuntu0.18.04.1).\n",
            "0 upgraded, 0 newly installed, 0 to remove and 58 not upgraded.\n"
          ]
        },
        {
          "output_type": "stream",
          "name": "stderr",
          "text": [
            "/usr/local/lib/python3.7/dist-packages/ipykernel_launcher.py:9: DeprecationWarning: use options instead of chrome_options\n",
            "  if __name__ == '__main__':\n"
          ]
        }
      ]
    },
    {
      "cell_type": "code",
      "metadata": {
        "colab": {
          "base_uri": "https://localhost:8080/"
        },
        "id": "n8ittPIciBdX",
        "outputId": "241be603-5374-47bd-e985-4ea6d98cb728"
      },
      "source": [
        "import os\n",
        "from time import sleep\n",
        "from selenium.common.exceptions import NoSuchElementException\n",
        "import requests\n",
        "from openpyxl import load_workbook, Workbook\n",
        "from openpyxl.formatting import Rule\n",
        "from openpyxl.styles import PatternFill\n",
        "from openpyxl.styles.differential import DifferentialStyle\n",
        "from openpyxl.styles.colors import COLOR_INDEX\n"
      ],
      "execution_count": null,
      "outputs": [
        {
          "output_type": "stream",
          "name": "stderr",
          "text": [
            "/usr/local/lib/python3.7/dist-packages/requests/__init__.py:91: RequestsDependencyWarning: urllib3 (1.26.7) or chardet (3.0.4) doesn't match a supported version!\n",
            "  RequestsDependencyWarning)\n"
          ]
        }
      ]
    },
    {
      "cell_type": "code",
      "metadata": {
        "colab": {
          "base_uri": "https://localhost:8080/"
        },
        "id": "lPd3uYThdGic",
        "outputId": "a3e3bfa0-39c0-4e55-a8a8-0c5cc4e2c3db"
      },
      "source": [
        "#Main script\n",
        "\n",
        "RED = COLOR_INDEX[2]\n",
        "BLUE = COLOR_INDEX[4]\n",
        "GREEN = COLOR_INDEX[3]\n",
        "YELLOW = COLOR_INDEX[5]\n",
        "colors = [RED, BLUE, GREEN, YELLOW]\n",
        "\n",
        "\n",
        "def removeFormatting(ws):\n",
        "    for key, _ in ws.conditional_formatting._cf_rules.items():\n",
        "        del ws.conditional_formatting[key.sqref]\n",
        "\n",
        "    # ws is not the worksheet name, but the worksheet object\n",
        "    for row in ws.iter_rows():\n",
        "        for cell in row:\n",
        "            cell.style = 'Normal'\n",
        "\n",
        "\n",
        "if not os.path.isfile('sample.xlsx'):\n",
        "    wb = Workbook()\n",
        "    wb.save('sample.xlsx')\n",
        "else:\n",
        "    wb = load_workbook('sample.xlsx')\n",
        "\n",
        "# grab the active worksheet\n",
        "ws = wb.active\n",
        "\n",
        "removeFormatting(ws)\n",
        "\n",
        "ans = input('Download list? [y/n]')\n",
        "if ans == 'y':\n",
        "    URL = \"https://openreview.net/\"\n",
        "\n",
        "    browser = webdriver.Chrome('chromedriver',chrome_options=chrome_options) #for google colab\n",
        "    #browser = webdriver.Chrome() comment this out to use on google colab\n",
        "    browser.get(URL)\n",
        "\n",
        "    # wait for page to load\n",
        "    sleep(2)\n",
        "\n",
        "    # select conference\n",
        "    confs = browser.find_element_by_id('all-venues')\n",
        "    confs = confs.find_elements_by_tag_name('a')\n",
        "    for i, c in enumerate(confs):\n",
        "        print(i, c.text, c.get_attribute('href'))\n",
        "\n",
        "    id = int(input())\n",
        "    new_link = confs[id].get_attribute('href')\n",
        "\n",
        "    browser.get(new_link)\n",
        "\n",
        "    # navigate the pages\n",
        "    while True:\n",
        "        try:\n",
        "            options = browser.find_element_by_class_name('venues-list').find_elements_by_tag_name('a')\n",
        "        except NoSuchElementException:\n",
        "            break\n",
        "        for i, o in enumerate(options):\n",
        "            print(i, o.text, o.get_attribute('href'))\n",
        "\n",
        "        id = int(input())\n",
        "        new_link = options[id].get_attribute('href')\n",
        "\n",
        "        browser.get(new_link)\n",
        "\n",
        "    # grab all the papers!\n",
        "    id = browser.current_url\n",
        "    id = id[id.find('id=')+3:]\n",
        "    links = []\n",
        "    links.append(f\"https://api.openreview.net/notes?invitation={id}/.*/Submission&details=replyCount,invitation,original&offset=0&includeCount=false&limit=5000\")\n",
        "    # links.append(f\"https://api.openreview.net/notes?invitation={id}/Paper.*/-/Decision&details=replyCount,invitation,original&offset=0&includeCount=false&limit=5000\")\n",
        "    links.append(f\"https://api.openreview.net/notes?invitation={id}/-/Blind_Submission&details=replyCount,invitation,original&offset=0&includeCount=false&limit=5000\")\n",
        "\n",
        "    for link in links:\n",
        "        resp = requests.get(link).json()\n",
        "        if 'count' in resp:\n",
        "            for i, note in enumerate(resp['notes']):\n",
        "                if 'decision' in note['content'] and note['content']['decision'] == 'Reject':\n",
        "                    continue\n",
        "                title = note['content']['title']\n",
        "                authors = note['content']['authors']\n",
        "                keywords = note['content']['keywords']\n",
        "\n",
        "                print(title, authors, keywords)\n",
        "                ws[f'A{i+1}'] = title\n",
        "                ws[f'B{i+1}'] = \", \".join(authors)\n",
        "                ws[f'C{i+1}'] = \", \".join(keywords)\n",
        "\n",
        "    browser.close()\n",
        "# Save the file\n",
        "wb.save(\"sample.xlsx\")\n",
        "\n",
        "i = 0\n",
        "ws['I1'] = \"Text to highlight (limited to the first 5000 rows):\"\n",
        "for j in range(2, 6):\n",
        "    ws[f'I{j}'] = \"\"\n",
        "while True:\n",
        "    print(f'Text to highlight{i+1}/4 (empty for skip): ')\n",
        "    text_to_find = input()\n",
        "    if text_to_find == '':\n",
        "        break\n",
        "\n",
        "    fill = PatternFill(start_color=colors[i], end_color=colors[i], fill_type='solid')\n",
        "    dxf = DifferentialStyle(fill=fill)\n",
        "    ws[f'I{2+i}'] = text_to_find\n",
        "    ws[f'I{2 + i}'].fill = fill\n",
        "    rule = Rule(type='containsText', operator='containsText', text=text_to_find, stopIfTrue=False)\n",
        "    rule.dxf = dxf\n",
        "    rule.formula = [f\"NOT(ISERROR(SEARCH(\\\"{text_to_find}\\\",A1)))\"]\n",
        "\n",
        "    ws.conditional_formatting.add('A1:D5000', rule)\n",
        "\n",
        "    i += 1\n",
        "    if i == 4:\n",
        "        break\n",
        "\n",
        "# Save the file\n",
        "wb.save(\"sample.xlsx\")\n",
        "wb.close()"
      ],
      "execution_count": null,
      "outputs": [
        {
          "name": "stdout",
          "output_type": "stream",
          "text": [
            "Download list? [y/n]n\n",
            "Text to highlight1/4 (empty for skip): \n",
            "\n"
          ]
        }
      ]
    }
  ]
}